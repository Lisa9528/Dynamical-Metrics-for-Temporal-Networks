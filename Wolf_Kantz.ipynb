{
 "cells": [
  {
   "cell_type": "code",
   "execution_count": null,
   "id": "a38a709e-5c3c-4cd1-851e-4ed09342cea7",
   "metadata": {},
   "outputs": [],
   "source": [
    "import time\n",
    "import math\n",
    "import random\n",
    "import matplotlib as mpl\n",
    "import matplotlib.pyplot as plt\n",
    "from mpl_toolkits import mplot3d\n",
    "import numpy as np\n",
    "import networkx as nx\n",
    "import scipy\n",
    "import pandas as pd\n",
    "from scipy.optimize import curve_fit"
   ]
  },
  {
   "cell_type": "markdown",
   "id": "54dac2fb-65a5-42f1-b68f-51d7c156f939",
   "metadata": {},
   "source": [
    "**WOLF AND KANTZ ALGORITHM FOR TEMPORAL NETWORK**"
   ]
  },
  {
   "cell_type": "markdown",
   "id": "30b24c2c-d92c-4c80-8915-c18c88af5711",
   "metadata": {},
   "source": [
    "This code uses the Wolf or Kantz algorithm to analyze temporal networks and measure their unpredictability. Specifically, the algorithm returns the distribution of local expansion rates and estimates the maximum Lyapunov exponent."
   ]
  },
  {
   "cell_type": "markdown",
   "id": "4c684006-c546-4318-ba68-b950ffd63c15",
   "metadata": {},
   "source": [
    "**Distance**\n",
    "\n",
    "In the next cell we define the distance between networks.\n",
    "As an example here we use the distance between their adjacency matrices."
   ]
  },
  {
   "cell_type": "code",
   "execution_count": null,
   "id": "1bcd9c5e-acab-4c68-8a87-9a2122165953",
   "metadata": {},
   "outputs": [],
   "source": [
    "def distance(x,y):\n",
    "    N=len(x) \n",
    "    d=np.sum(abs(x-y)/(N*(N-1))) #difference between adjacency matrix\n",
    "    return d"
   ]
  },
  {
   "cell_type": "markdown",
   "id": "34e0e278-c6db-4b03-ac84-2f93a24f38fd",
   "metadata": {},
   "source": [
    "**Goodness of fit: R²**\n",
    "\n",
    "Moreover, for each value of the local expansion rate, we obtain a fit and an R-squared value. The wolf algorithm, which we will introduce later, will filter out values of local expansion rate with an R-squared value less than 0.9."
   ]
  },
  {
   "cell_type": "code",
   "execution_count": null,
   "id": "38ccff88-5f31-4348-be27-72d7c179c099",
   "metadata": {},
   "outputs": [],
   "source": [
    "def Rsquared(x,y,y_tot,f): # compute the R-squared\n",
    "    z=np.linspace(0,len(y_tot)-1,len(y_tot))\n",
    "    y_bar = np.mean(y)\n",
    "    ss_tot = ((y-y_bar)**2).sum()\n",
    "    ss_res = ((y-f)**2).sum()\n",
    "    return 1 - (ss_res/ss_tot)\n",
    "\n",
    "def best_fit(y_nl,window): # perform the fit over a window of points \n",
    "    y=np.log(np.array(y_nl)) \n",
    "    best_R=0\n",
    "    i=0\n",
    "    x=np.linspace(0,len(y)-1,len(y)) \n",
    "    a,b=np.polyfit(x[i:i+window],y[i:i+window],1)\n",
    "    f=a*x+b\n",
    "    a_old=a\n",
    "    R=Rsquared(x[i:i+window], y[i:i+window],y,f[i:i+window])\n",
    "    best_R=R\n",
    "    while  i<len(y)-window and R<0.9:\n",
    "        a_old=a\n",
    "        best_R=R\n",
    "        i=i+1\n",
    "        a,b=np.polyfit(x[i:i+window],y[i:i+window],1)\n",
    "        f=a*x+b\n",
    "        R=Rsquared(x[i:i+window], y[i:i+window],y,f[i:i+window])\n",
    "        \n",
    "    return a_old,best_R,i-1"
   ]
  },
  {
   "cell_type": "markdown",
   "id": "4274ad93-5550-4dfc-b9cf-d7dac09b26a3",
   "metadata": {},
   "source": [
    "**Description**\n",
    "\n",
    "The algorithms require the following parameters in this order:\n",
    "\n",
    "* A time series of networks represented by the adjacency matrix.\n",
    "* The total time length of the trajectory. Generally, it is the length of the time series, but one can also consider a part of it.\n",
    "* The initial point of the trajectory.\n",
    "* The parameter $\\tau$ (saturation time for the dynamical system).\n",
    "* $w$, the number of points on which we compute the fit.\n",
    "* (Only for Kantz) the radius of the sphere $\\epsilon$.\n",
    "\n",
    "It returns:\n",
    "\n",
    "* An array of unknown length of local expansion rates.\n",
    "* The estimated Maximum Lyapunov exponent."
   ]
  },
  {
   "cell_type": "code",
   "execution_count": null,
   "id": "6870c0b2-e67b-4ab3-8ac6-a608f4b3060b",
   "metadata": {
    "tags": []
   },
   "outputs": [],
   "source": [
    "\n",
    "def Wolf(Trajectory, Time, transient,tau,w):\n",
    "\n",
    "    i=transient   # Index for referring to the initial point\n",
    "     \n",
    "    dista=[] # Array for distances \n",
    "    \n",
    "    S=[] # Initialize the list of local expansion rates\n",
    "    \n",
    "    while i< Time-tau-1 : # check to do not exceed the time limit\n",
    "    \n",
    "        xi=Trajectory[i] # we take the value of the evolution of the initial point at time transient+ tau*iteration\n",
    "       \n",
    "        d_old=distance(xi,Trajectory[transient+1])+1 # Initialize the first distance\n",
    "\n",
    "        for j in range(transient+1,Time-tau-1): #compute the minimum distance between xi and another point in the trajectory\n",
    "            d_new=distance(xi,Trajectory[j])\n",
    "            d_new_j=j\n",
    "            if d_new > 0:\n",
    "                if d_new< d_old:\n",
    "                    d_old=d_new\n",
    "                    d_old_j=d_new_j\n",
    "    \n",
    "        xk=Trajectory[d_old_j] # the point associated tot the minimum distance\n",
    "        dista=[] \n",
    "        z=0\n",
    "        dista.append(distance(xk,xi)) \n",
    "        while  z<tau-1: # Advance until tau\n",
    "            z=z+1 # advancing in time\n",
    "            ds=distance(xk,xi) # save previous distance\n",
    "            xi=Trajectory[i+z] # compute the evolution of xi\n",
    "            xk=Trajectory[d_old_j+z] # compute the evolution of xk\n",
    "            dista.append(distance(xk,xi)) #append the distance at time z\n",
    "            \n",
    "        s,r,inp=best_fit(dista,w) # compute the fit on the array of distances\n",
    "        if r>=0.9: # select value with R-squared >=0.9\n",
    "            S.append(s)\n",
    "           \n",
    "\n",
    "        i=i+tau  #the initial point advancing in time \n",
    "        \n",
    "    return S, np.mean(S)\n",
    "\n",
    "      \n",
    "        "
   ]
  },
  {
   "cell_type": "code",
   "execution_count": null,
   "id": "1c40f6a3-fa8d-42bb-a26e-979911be35b7",
   "metadata": {
    "tags": []
   },
   "outputs": [],
   "source": [
    "\n",
    "def Kantz(Trajectory, Time, transient,tau,w,eps):\n",
    "  \n",
    "    i=transient   # Index for referring to the initial point\n",
    "     \n",
    "    dista=[] # Initialize array for distances \n",
    "    \n",
    "    S=[] # Initialize the list of local expansion rates\n",
    "    \n",
    "    while i<Time-tau-1: # check to do not exceed the time limit\n",
    "        \n",
    "        xi=Trajectory[i] # we take the value of the evolution of the initial point at time transient+tau*iteration\n",
    "       \n",
    "        # Initialize some arrays\n",
    "        dist=[]\n",
    "        dista=[]\n",
    "        distj=[]\n",
    "        \n",
    "        for j in range(i,Time-tau-1): #compute all the distances of xi with other points in the series, these distances must be greater than 0 and lower than epsilon\n",
    "            if distance(xi,Trajectory[j])>0. and distance(xi,Trajectory[j])<eps:\n",
    "\n",
    "                dist.append(distance(xi,Trajectory[j]))\n",
    "                distj.append(j)\n",
    "        \n",
    "        if len(dist)==0:\n",
    "            print('no points in the ball')\n",
    "            break\n",
    "\n",
    "        d0=np.array(dist) # save the array of distances\n",
    "      \n",
    "        z=0\n",
    "   \n",
    "        dista.append(np.mean(d0)) # save the first mean value of the distances\n",
    "\n",
    "        while  z<tau-1: # Advance until tau\n",
    "            z=z+1 # Advancing in time\n",
    "            ds=np.array(dist) # save previous array for distances\n",
    "            \n",
    "            for d in range(len(dist)): # compute the evolution of the distance of the points in the ball\n",
    "                dist[d]=distance(Trajectory[i+z],Trajectory[distj[d]+z])\n",
    "                \n",
    "            dista.append(np.mean(dist))\n",
    "            \n",
    "        s,r,inp=best_fit(dista,w) # compute the fit on the array of distances\n",
    "        if r>=0.9: # select value with R-squared >=0.9\n",
    "            S.append(s)\n",
    "           \n",
    "\n",
    "        i=i+tau  #the initial point advancing in time \n",
    "        \n",
    "        \n",
    "    return S, np.mean(S)\n",
    "      \n"
   ]
  }
 ],
 "metadata": {
  "kernelspec": {
   "display_name": "Python 3 (ipykernel)",
   "language": "python",
   "name": "python3"
  },
  "language_info": {
   "codemirror_mode": {
    "name": "ipython",
    "version": 3
   },
   "file_extension": ".py",
   "mimetype": "text/x-python",
   "name": "python",
   "nbconvert_exporter": "python",
   "pygments_lexer": "ipython3",
   "version": "3.10.6"
  },
  "widgets": {
   "application/vnd.jupyter.widget-state+json": {
    "state": {},
    "version_major": 2,
    "version_minor": 0
   }
  }
 },
 "nbformat": 4,
 "nbformat_minor": 5
}
